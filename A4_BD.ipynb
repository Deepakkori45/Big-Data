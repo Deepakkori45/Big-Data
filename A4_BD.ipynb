{
  "nbformat": 4,
  "nbformat_minor": 0,
  "metadata": {
    "colab": {
      "provenance": []
    },
    "kernelspec": {
      "name": "python3",
      "display_name": "Python 3"
    },
    "language_info": {
      "name": "python"
    }
  },
  "cells": [
    {
      "cell_type": "markdown",
      "source": [
        "Assignment 4\n",
        "\n",
        "Elbow method to find number of optimal clusters form dataset. "
      ],
      "metadata": {
        "id": "44qlMPWwjilN"
      }
    },
    {
      "cell_type": "code",
      "source": [
        "from pyspark.ml.clustering import KMeans\n",
        "from pyspark.ml.feature import VectorAssembler\n",
        "from pyspark.sql import SparkSession\n",
        "from pyspark.ml.evaluation import ClusteringEvaluator\n",
        "import matplotlib.pyplot as plt"
      ],
      "metadata": {
        "id": "UWfOAwWhrSRk"
      },
      "execution_count": 1,
      "outputs": []
    },
    {
      "cell_type": "code",
      "source": [
        "# Create Spark session\n",
        "spark = SparkSession.builder.appName(\"KMeansClustering\").getOrCreate()"
      ],
      "metadata": {
        "id": "SI72ztpBrSPN"
      },
      "execution_count": 2,
      "outputs": []
    },
    {
      "cell_type": "code",
      "source": [
        "# Read input data\n",
        "data = spark.read.csv(\"KmeansData.csv\", header=True, inferSchema=True)"
      ],
      "metadata": {
        "id": "D6rUOmsom4RK"
      },
      "execution_count": 3,
      "outputs": []
    },
    {
      "cell_type": "code",
      "source": [
        "data.show()"
      ],
      "metadata": {
        "colab": {
          "base_uri": "https://localhost:8080/"
        },
        "id": "1ENyeiRzmhRL",
        "outputId": "80b670bc-af8b-4b9e-cc92-85129f66139e"
      },
      "execution_count": 4,
      "outputs": [
        {
          "output_type": "stream",
          "name": "stdout",
          "text": [
            "+---+-------------------+----------+-------+------+-------+------+---------+----------+---------+-----+\n",
            "|_c0|            country|child_mort|exports|health|imports|income|inflation|life_expec|total_fer| gdpp|\n",
            "+---+-------------------+----------+-------+------+-------+------+---------+----------+---------+-----+\n",
            "|  0|        Afghanistan|      90.2|   10.0|  7.58|   44.9|  1610|     9.44|      56.2|     5.82|  553|\n",
            "|  1|            Albania|      16.6|   28.0|  6.55|   48.6|  9930|     4.49|      76.3|     1.65| 4090|\n",
            "|  2|            Algeria|      27.3|   38.4|  4.17|   31.4| 12900|     16.1|      76.5|     2.89| 4460|\n",
            "|  3|             Angola|     119.0|   62.3|  2.85|   42.9|  5900|     22.4|      60.1|     6.16| 3530|\n",
            "|  4|Antigua and Barbuda|      10.3|   45.5|  6.03|   58.9| 19100|     1.44|      76.8|     2.13|12200|\n",
            "|  5|          Argentina|      14.5|   18.9|   8.1|   16.0| 18700|     20.9|      75.8|     2.37|10300|\n",
            "|  6|            Armenia|      18.1|   20.8|   4.4|   45.3|  6700|     7.77|      73.3|     1.69| 3220|\n",
            "|  7|          Australia|       4.8|   19.8|  8.73|   20.9| 41400|     1.16|      82.0|     1.93|51900|\n",
            "|  8|            Austria|       4.3|   51.3|  11.0|   47.8| 43200|    0.873|      80.5|     1.44|46900|\n",
            "|  9|         Azerbaijan|      39.2|   54.3|  5.88|   20.7| 16000|     13.8|      69.1|     1.92| 5840|\n",
            "| 10|            Bahamas|      13.8|   35.0|  7.89|   43.7| 22900|   -0.393|      73.8|     1.86|28000|\n",
            "| 11|            Bahrain|       8.6|   69.5|  4.97|   50.9| 41100|     7.44|      76.0|     2.16|20700|\n",
            "| 12|         Bangladesh|      49.4|   16.0|  3.52|   21.8|  2440|     7.14|      70.4|     2.33|  758|\n",
            "| 13|           Barbados|      14.2|   39.5|  7.97|   48.7| 15300|    0.321|      76.7|     1.78|16000|\n",
            "| 14|            Belarus|       5.5|   51.4|  5.61|   64.5| 16200|     15.1|      70.4|     1.49| 6030|\n",
            "| 15|            Belgium|       4.5|   76.4|  10.7|   74.7| 41100|     1.88|      80.0|     1.86|44400|\n",
            "| 16|             Belize|      18.8|   58.2|   5.2|   57.5|  7880|     1.14|      71.4|     2.71| 4340|\n",
            "| 17|              Benin|     111.0|   23.8|   4.1|   37.2|  1820|    0.885|      61.8|     5.36|  758|\n",
            "| 18|             Bhutan|      42.7|   42.5|   5.2|   70.7|  6420|     5.99|      72.1|     2.38| 2180|\n",
            "| 19|            Bolivia|      46.6|   41.2|  4.84|   34.3|  5410|     8.78|      71.6|      3.2| 1980|\n",
            "+---+-------------------+----------+-------+------+-------+------+---------+----------+---------+-----+\n",
            "only showing top 20 rows\n",
            "\n"
          ]
        }
      ]
    },
    {
      "cell_type": "code",
      "source": [
        "# Select only feature columns\n",
        "feature_cols = data.columns[2:-2]\n",
        "assembler = VectorAssembler(inputCols=feature_cols, outputCol=\"features\")\n",
        "data = assembler.transform(data).select(\"features\")"
      ],
      "metadata": {
        "id": "UbI_MEGYmhOY"
      },
      "execution_count": 5,
      "outputs": []
    },
    {
      "cell_type": "code",
      "source": [
        "# Initialize empty lists for WSSSE and Silhouette scores\n",
        "wssse_list = []\n",
        "silhouette_scores = []"
      ],
      "metadata": {
        "id": "R8uqvCuKsQ-z"
      },
      "execution_count": 6,
      "outputs": []
    },
    {
      "cell_type": "code",
      "source": [
        "# Loop over different values of k to find the optimal number of clusters\n",
        "for k in range(2, 11):\n",
        "    # Fit KMeans model\n",
        "    kmeans = KMeans(k=k, seed=2)\n",
        "    model = kmeans.fit(data)\n",
        "    predictions = model.transform(data)\n",
        "    \n",
        "    # Calculate within-cluster sum of squared errors (WSSSE)\n",
        "    wssse = model.summary.trainingCost\n",
        "    wssse_list.append(wssse)\n",
        "    \n",
        "    # Calculate Silhouette score\n",
        "    evaluator = ClusteringEvaluator()\n",
        "    silhouette_score = evaluator.evaluate(predictions)\n",
        "    silhouette_scores.append(silhouette_score)"
      ],
      "metadata": {
        "id": "OYkBnHLUsQ7Y"
      },
      "execution_count": 7,
      "outputs": []
    },
    {
      "cell_type": "code",
      "source": [
        "# Plot the WSSSE vs. number of clusters\n",
        "plt.plot(range(2, 11), wssse_list)\n",
        "plt.title(\"Elbow Method\")\n",
        "plt.xlabel(\"Number of Clusters\")\n",
        "plt.ylabel(\"Within-Cluster Sum of Squared Errors\")\n",
        "plt.show()"
      ],
      "metadata": {
        "colab": {
          "base_uri": "https://localhost:8080/",
          "height": 295
        },
        "id": "aAWueF-RsQ5B",
        "outputId": "a41ebfc7-cc93-4797-f4e5-ad9440432689"
      },
      "execution_count": 8,
      "outputs": [
        {
          "output_type": "display_data",
          "data": {
            "text/plain": [
              "<Figure size 432x288 with 1 Axes>"
            ],
            "image/png": "[encoded data removed]"
          },
          "metadata": {
            "needs_background": "light"
          }
        }
      ]
    },
    {
      "cell_type": "markdown",
      "source": [
        "Since there are more bends in the Elbow method plot to find optimal curve we can find the Silhouette score.\n",
        "\n",
        "Silhouette score:Measures how well each data point fits into its assigned cluster compared to other clusters \n"
      ],
      "metadata": {
        "id": "S5vaqxiqsmh4"
      }
    },
    {
      "cell_type": "code",
      "source": [
        "# Plot the Silhouette score vs. number of clusters\n",
        "plt.plot(range(2, 11), silhouette_scores)\n",
        "plt.title(\"Silhouette Score\")\n",
        "plt.xlabel(\"Number of Clusters\")\n",
        "plt.ylabel(\"Silhouette Score\")\n",
        "plt.show()"
      ],
      "metadata": {
        "colab": {
          "base_uri": "https://localhost:8080/",
          "height": 295
        },
        "id": "aE6X6j1RsQ2i",
        "outputId": "ba09a64c-446b-4920-a65d-be60be794bb5"
      },
      "execution_count": 9,
      "outputs": [
        {
          "output_type": "display_data",
          "data": {
            "text/plain": [
              "<Figure size 432x288 with 1 Axes>"
            ],
            "image/png": "[encoded data removed]"
          },
          "metadata": {
            "needs_background": "light"
          }
        }
      ]
    },
    {
      "cell_type": "markdown",
      "source": [
        "While a high silhouette score at a certain number of clusters and an elbow bend at the same number of clusters may suggest an optimal number of clusters.(if we neglect the other parameters)"
      ],
      "metadata": {
        "id": "xd3tDvyCuzvx"
      }
    }
  ]
}